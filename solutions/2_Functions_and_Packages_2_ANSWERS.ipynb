{
 "cells": [
  {
   "cell_type": "code",
   "execution_count": 1,
   "metadata": {},
   "outputs": [],
   "source": [
    "# ADD A NAME\n",
    "\n",
    "# define the function:\n",
    "\n",
    "def addName(lst, name):\n",
    "    return lst.append(name)\n",
    "\n",
    "# execute the task with the function:\n",
    "\n",
    "addName(vipThisWknd, 'Brooke')\n",
    "print(vipThisWknd)\n",
    "addName(vipThisWknd, 'Verity')\n",
    "print(vipThisWknd)"
   ]
  },
  {
   "cell_type": "code",
   "execution_count": null,
   "metadata": {},
   "outputs": [],
   "source": [
    "# REMOVE A NAME\n",
    "\n",
    "# define the function:\n",
    "\n",
    "def removeName(lst, name):\n",
    "    return lst.remove(name)\n",
    "\n",
    "# execute the task with the function:\n",
    "\n",
    "removeName(vipThisWknd, 'Francisco')\n",
    "print(vipThisWknd)\n",
    "removeName(vipThisWknd, 'Caesar Salad')\n",
    "print(vipThisWknd)\n",
    "removeName(vipThisWknd, 'The Babadook')\n",
    "print(vipThisWknd)"
   ]
  },
  {
   "cell_type": "code",
   "execution_count": null,
   "metadata": {},
   "outputs": [],
   "source": [
    "# SORT IN ALPHABETICAL ORDER\n",
    "\n",
    "# define the function:\n",
    "\n",
    "def alphaSort(lst):\n",
    "    return lst.sort()\n",
    "\n",
    "# execute the task with the function:\n",
    "\n",
    "alphaSort(vipThisWknd)\n",
    "print(vipThisWknd)"
   ]
  },
  {
   "cell_type": "code",
   "execution_count": null,
   "metadata": {},
   "outputs": [],
   "source": [
    "# COMBINE LISTS\n",
    "\n",
    "# define the function:\n",
    "\n",
    "def combineLists(lstOne, lstTwo):\n",
    "    return lstOne + lstTwo\n",
    "\n",
    "# execute the task with the function:\n",
    "\n",
    "print(combineLists(vipThisWknd, vipLastWknd))"
   ]
  }
 ],
 "metadata": {
  "kernelspec": {
   "display_name": "Python 3",
   "language": "python",
   "name": "python3"
  },
  "language_info": {
   "codemirror_mode": {
    "name": "ipython",
    "version": 3
   },
   "file_extension": ".py",
   "mimetype": "text/x-python",
   "name": "python",
   "nbconvert_exporter": "python",
   "pygments_lexer": "ipython3",
   "version": "3.6.5"
  }
 },
 "nbformat": 4,
 "nbformat_minor": 2
}
