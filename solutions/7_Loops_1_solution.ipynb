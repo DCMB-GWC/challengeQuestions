{
 "cells": [
  {
   "cell_type": "markdown",
   "metadata": {},
   "source": [
    "# Hangman\n",
    "\n",
    "The idea is simple, the implementation is a little harder.\n",
    "Make a game of hangman that you and a friend can play!\n",
    "\n",
    "**New function:**\n",
    "input"
   ]
  },
  {
   "cell_type": "code",
   "execution_count": 3,
   "metadata": {},
   "outputs": [
    {
     "name": "stdout",
     "output_type": "stream",
     "text": [
      "Type in your name and hit enter: Zena\n",
      "Hi, Zena!\n"
     ]
    }
   ],
   "source": [
    "# example of using input\n",
    "name = input('Type in your name and hit enter: ')\n",
    "print('Hi, ' + name + '!')"
   ]
  },
  {
   "cell_type": "code",
   "execution_count": 2,
   "metadata": {},
   "outputs": [
    {
     "name": "stdout",
     "output_type": "stream",
     "text": [
      "Help on method raw_input in module ipykernel.kernelbase:\n",
      "\n",
      "raw_input(prompt='') method of ipykernel.ipkernel.IPythonKernel instance\n",
      "    Forward raw_input to frontends\n",
      "    \n",
      "    Raises\n",
      "    ------\n",
      "    StdinNotImplentedError if active frontend doesn't support stdin.\n",
      "\n"
     ]
    }
   ],
   "source": [
    "# Learn more about input\n",
    "?input # this works for me in Jupyter Notebook, if it doesn't for you, try:\n",
    "help(input)"
   ]
  },
  {
   "cell_type": "markdown",
   "metadata": {},
   "source": [
    "### Approach:\n",
    "\n",
    "1) Write down how a game of hangman works. What is the first step? What is the next step?\n",
    "- How does the game start?\n",
    "- How does the game end?\n",
    "- Are there certain parts where you have to make different decisions based on the input?\n",
    "- Are there parts that get repeated multiple times?\n",
    "\n",
    "2) Write pseudocode based on the steps you wrote in (1).\n",
    "\n",
    "3) Write up your code below.\n",
    "\n",
    "4) Try it out on a friend!\n",
    "\n",
    "Hints:\n",
    "- Make sure you have a variable you set that is the word your friend is trying to guess. \n",
    "    - Ex: word = \"python\" -- you can manually change this word each time you want to play another game of hangman\n",
    "- You have to tell your friend how long the word is\n",
    "- When your friend guesses a correct letter, you have to add it in the correct place in the word\n",
    "- When your friend guesses an incorrect letter, you have to let them know\n",
    "- The game is over when all of the letters are guessed (or you can set a maximum number of turns your friend can take to guess the word)"
   ]
  },
  {
   "cell_type": "code",
   "execution_count": 2,
   "metadata": {},
   "outputs": [
    {
     "name": "stdout",
     "output_type": "stream",
     "text": [
      "['_', '_', '_', '_']\n",
      "\n",
      "You have 10 guesses.\n",
      "Guess a letter: e\n",
      "Sorry, the letter e is not in the word.\n",
      "You have guessed: ['e'].\n",
      "You have 9 guess(es) left.\n",
      "Guess a letter: a\n",
      "['a', '_', '_', 'a']\n",
      "Guess a letter: t\n",
      "Sorry, the letter t is not in the word.\n",
      "You have guessed: ['e', 'a', 't'].\n",
      "You have 8 guess(es) left.\n",
      "Guess a letter: a\n",
      "You have already guessed a!\n",
      "You have guessed: ['e', 'a', 't'].\n",
      "Guess another letter.\n",
      "Guess a letter: n\n",
      "['a', 'n', 'n', 'a']\n",
      "You guessed the word (anna). Nice job!\n"
     ]
    }
   ],
   "source": [
    "# Set word\n",
    "word = 'python'\n",
    "\n",
    "# Initialize list to store guesses\n",
    "guesses = list()\n",
    "\n",
    "# Make a list to store letters in the word\n",
    "empty_word = list('_'*len(word))\n",
    "\n",
    "# Print out blanks for word\n",
    "print(empty_word)\n",
    "\n",
    "# Set number of guesses\n",
    "n_turns = 10\n",
    "print('\\nYou have ' + str(n_turns) + ' guesses.')\n",
    "\n",
    "# While there are still guesses left and all letters haven't been guessed\n",
    "while(n_turns >= 0):\n",
    "    # If you're out of guesses\n",
    "    if(n_turns == 0):\n",
    "        print('Sorry, you lose. The word was ' + word + '.')\n",
    "        break\n",
    "    # Have the user guess a letter\n",
    "    guess = input('Guess a letter: ')\n",
    "    # Check to see if the user input is a letter\n",
    "    if not guess.isalpha() or not len(guess) == 1:\n",
    "        print(guess, 'is not a single letter. Please input a letter from A to Z.')\n",
    "        continue\n",
    "    # Check to see if the user has already guessed that letter\n",
    "    if guess in guesses:\n",
    "        print('You have already guessed '+ guess + \n",
    "              '!\\nYou have guessed: ' + str(guesses) + \n",
    "              '.\\nGuess another letter.')\n",
    "        continue\n",
    "    # Add the guess to the previous guesses\n",
    "    guesses.append(guess)\n",
    "    # If the guess is in the word (upper or lower case guess)\n",
    "    if guess in word or guess.lower() in word:\n",
    "        # Add letter to empty word and print it out\n",
    "        for i,letter in enumerate(word):\n",
    "            if letter == guess or letter == guess.lower():\n",
    "                empty_word[i] = guess.lower()\n",
    "        print(empty_word)\n",
    "        if '_' in empty_word:\n",
    "            continue\n",
    "        # If the user has guessed the whole word, end the game\n",
    "        else:\n",
    "            print('You guessed the word (' + word + '). Nice job!')\n",
    "            break\n",
    "    # If the guess is wrong, subtract a guess and start over\n",
    "    else:\n",
    "        n_turns -= 1\n",
    "        print('Sorry, the letter', guess, \n",
    "              'is not in the word.\\nYou have guessed: ' + str(guesses) +\n",
    "             '.\\nYou have ' + str(n_turns) + ' guess(es) left.')"
   ]
  },
  {
   "cell_type": "code",
   "execution_count": null,
   "metadata": {
    "collapsed": true
   },
   "outputs": [],
   "source": []
  },
  {
   "cell_type": "code",
   "execution_count": null,
   "metadata": {
    "collapsed": true
   },
   "outputs": [],
   "source": []
  }
 ],
 "metadata": {
  "kernelspec": {
   "display_name": "Python 3",
   "language": "python",
   "name": "python3"
  },
  "language_info": {
   "codemirror_mode": {
    "name": "ipython",
    "version": 3
   },
   "file_extension": ".py",
   "mimetype": "text/x-python",
   "name": "python",
   "nbconvert_exporter": "python",
   "pygments_lexer": "ipython3",
   "version": "3.6.1"
  }
 },
 "nbformat": 4,
 "nbformat_minor": 2
}
