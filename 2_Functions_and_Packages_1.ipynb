{
 "cells": [
  {
   "cell_type": "markdown",
   "metadata": {},
   "source": [
    "# Running a Restaurant"
   ]
  },
  {
   "cell_type": "markdown",
   "metadata": {},
   "source": [
    "You have just opened a restaurant and want to write some functions in Python to help you run your restaurant more smoothly and efficiently.\n",
    "\n",
    "Your goal is to write functions to:\n",
    "1. Calculate the total cost of a group's meal\n",
    "2. Give a suggested tip amount for your customers\n",
    "3. Find which day there were the most and least customers\n",
    "4. Find which day there were the most and the least customers. \n",
    "\n",
    "#### Hints: \n",
    "This link will be VERY useful for (3): https://pymotw.com/2/collections/counter.html\n",
    "\n",
    "For (4), you will have to Google what functions return the maximum and minimum values in a list."
   ]
  },
  {
   "cell_type": "code",
   "execution_count": null,
   "metadata": {
    "collapsed": true
   },
   "outputs": [],
   "source": [
    "# QUESTION 1\n",
    "# Function to calculate the total cost of a group's meal\n",
    "# Input: List of costs for each individual meal in the group\n",
    "# Output: Total cost of the a group's meal\n",
    "\n",
    "#### WRITE YOUR FUNCTION HERE ####\n",
    "\n",
    "# Example input:\n",
    "meal_costs = [11,14,8,11]\n",
    "\n",
    "# Test your function here:\n"
   ]
  },
  {
   "cell_type": "code",
   "execution_count": 2,
   "metadata": {
    "collapsed": true
   },
   "outputs": [],
   "source": [
    "# QUESTION 2\n",
    "# Function to give a suggested tip amount for your customers\n",
    "# Input: Total cost of the meal, percent to tip\n",
    "# Output: Amount to tip\n",
    "\n",
    "#### WRITE YOUR FUNCTION HERE ####\n",
    "\n",
    "# Example input:\n",
    "meal_cost = 34\n",
    "tip_percent = 0.20\n",
    "\n",
    "# Test your function here:\n"
   ]
  },
  {
   "cell_type": "code",
   "execution_count": 5,
   "metadata": {
    "collapsed": true
   },
   "outputs": [],
   "source": [
    "# QUESTION 3\n",
    "# Function to find how many of each meal has been ordered\n",
    "# Input: List of meals ordered\n",
    "# Output: Counts of each meal\n",
    "\n",
    "# HINT: This link will be VERY useful: https://pymotw.com/2/collections/counter.html\n",
    "\n",
    "#### WRITE YOUR FUNCTION HERE ####\n",
    "\n",
    "# Example input:\n",
    "meals = ['Chicken','Pasta','Pasta','Salad','Salad','Chicken','Burrito','Pasta','Steak','Chicken','Salad']\n",
    "\n",
    "# Test your function here:\n"
   ]
  },
  {
   "cell_type": "code",
   "execution_count": null,
   "metadata": {
    "collapsed": true
   },
   "outputs": [],
   "source": [
    "# QUESTION 4\n",
    "# Function to find which day there were the most and least customers\n",
    "# Input: List of how many customers came to the restaurant each day\n",
    "# Output: Minimum and maximum number of customers\n",
    "\n",
    "# HINT: you will have to Google what functions return the maximum and minimum values in a list\n",
    "\n",
    "#### WRITE YOUR FUNCTION HERE ####\n",
    "\n",
    "\n",
    "# Example input: \n",
    "customer_count = [31,8,28,23,17,33,21]\n",
    "\n",
    "# Test your function here:\n"
   ]
  }
 ],
 "metadata": {
  "kernelspec": {
   "display_name": "Python 3",
   "language": "python",
   "name": "python3"
  },
  "language_info": {
   "codemirror_mode": {
    "name": "ipython",
    "version": 3
   },
   "file_extension": ".py",
   "mimetype": "text/x-python",
   "name": "python",
   "nbconvert_exporter": "python",
   "pygments_lexer": "ipython3",
   "version": "3.6.1"
  }
 },
 "nbformat": 4,
 "nbformat_minor": 2
}
