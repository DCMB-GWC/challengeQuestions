{
 "cells": [
  {
   "cell_type": "markdown",
   "metadata": {},
   "source": [
    "# Dictionaries\n",
    "\n",
    "Create a dictionary called prices. Put the following key-value pairs of fruits and their prices in your dictionary:\n",
    "\n",
    "banana - 0.79,\n",
    "apple - 1.99,\n",
    "orange - 1.50,\n",
    "pear - 0.97"
   ]
  },
  {
   "cell_type": "code",
   "execution_count": null,
   "metadata": {
    "collapsed": true
   },
   "outputs": [],
   "source": []
  },
  {
   "cell_type": "markdown",
   "metadata": {},
   "source": [
    "If you were to buy one of each fruit, how much would it cost? How about five of each fruit? \n",
    "Create a function to calculate the cost of n of each fruit"
   ]
  },
  {
   "cell_type": "code",
   "execution_count": null,
   "metadata": {
    "collapsed": true
   },
   "outputs": [],
   "source": []
  },
  {
   "cell_type": "markdown",
   "metadata": {},
   "source": [
    "Woah, avocados are on sale for $0.69 each! Add this key-value pair to prices. \n",
    "\n",
    "Now, using your function from above, print the price of purchasing 12 of each fruit."
   ]
  },
  {
   "cell_type": "code",
   "execution_count": null,
   "metadata": {
    "collapsed": true
   },
   "outputs": [],
   "source": []
  },
  {
   "cell_type": "markdown",
   "metadata": {},
   "source": [
    "# Pandas\n",
    "\n",
    "The Titanic dataset provides information about the survival of passengers onboard the Titanic, which sank after hitting an iceburg during its maiden voyage in April 1912. We will perform some basic analyses of these data using Pandas!"
   ]
  },
  {
   "cell_type": "code",
   "execution_count": null,
   "metadata": {
    "collapsed": true
   },
   "outputs": [],
   "source": [
    "# First, lets be sure pandas and numpy are both available for use:\n",
    "\n",
    "\n",
    "# Now, let's read in the data from the file titanic.csv. \n",
    "titanic_data = pd.read_csv(\"titanic.csv\")\n",
    "\n",
    "# The .head() method allows us to see the first n rows of titanic_data. Let's see 4 rows \n",
    "# Is this object a series or a dataframe?\n",
    "titanic_data.head(4)"
   ]
  },
  {
   "cell_type": "code",
   "execution_count": null,
   "metadata": {
    "collapsed": true
   },
   "outputs": [],
   "source": [
    "# Check the dimensions of our data (i.e. how many rows and columns does it have?)\n"
   ]
  },
  {
   "cell_type": "code",
   "execution_count": null,
   "metadata": {
    "collapsed": true
   },
   "outputs": [],
   "source": [
    "# What data do we have on each passenger anyway? lets check the column names to find out\n"
   ]
  },
  {
   "cell_type": "markdown",
   "metadata": {},
   "source": [
    "### Subsetting"
   ]
  },
  {
   "cell_type": "code",
   "execution_count": null,
   "metadata": {
    "collapsed": true
   },
   "outputs": [],
   "source": [
    "# I want to see the first 5 values in the 'Survived' column using the column name\n",
    "# There are two ways to do this - can you figure out both? Double check they give the same result\n"
   ]
  },
  {
   "cell_type": "code",
   "execution_count": null,
   "metadata": {
    "collapsed": true
   },
   "outputs": [],
   "source": [
    "# Now, I want to see the ages that correspond to the survival values in these first 5 rows\n",
    "# How can we select 5 rows and 2 columns? (use column names for accessing these data)\n"
   ]
  },
  {
   "cell_type": "code",
   "execution_count": null,
   "metadata": {
    "collapsed": true
   },
   "outputs": [],
   "source": [
    "# Time for some analysis. We want to know the total number and percentage of surviors and non-survivors\n",
    "# HINT: there is a method called .value_counts() that will help you here - use the documentation!\n"
   ]
  },
  {
   "cell_type": "markdown",
   "metadata": {},
   "source": [
    "### Cross-tabulation"
   ]
  },
  {
   "cell_type": "code",
   "execution_count": null,
   "metadata": {
    "collapsed": true
   },
   "outputs": [],
   "source": [
    "# Now we want to look into the distribution of males and females in both the survior and non-survivor groups\n",
    "# HINT: how can the .crosstab() function help you here?\n",
    "\n",
    "\n",
    "# After you've found the totals, let's view these as percentages\n",
    "# HINT: play with the normalize parameter to see how the results change.\n",
    "# Which tells you the percentage of women that survived? \n",
    "\n"
   ]
  },
  {
   "cell_type": "markdown",
   "metadata": {},
   "source": [
    "### Filtering"
   ]
  },
  {
   "cell_type": "code",
   "execution_count": null,
   "metadata": {
    "collapsed": true
   },
   "outputs": [],
   "source": [
    "# We want to find out how many children under the age of 5 survived.\n",
    "# Subset titanic_data to include only these data and save it to a new object, titanic_below_5\n"
   ]
  },
  {
   "cell_type": "code",
   "execution_count": null,
   "metadata": {
    "collapsed": true
   },
   "outputs": [],
   "source": [
    "# How many total children under 5 were onboard the titanic?\n"
   ]
  },
  {
   "cell_type": "code",
   "execution_count": null,
   "metadata": {
    "collapsed": true
   },
   "outputs": [],
   "source": [
    "# Now find the total numbers as well as percentages of survivors/non-survivors in this subset\n"
   ]
  },
  {
   "cell_type": "code",
   "execution_count": null,
   "metadata": {
    "collapsed": true
   },
   "outputs": [],
   "source": [
    "# BONUS: Find all the rows in titanic_data where the name contains \"Allen\"\n"
   ]
  }
 ],
 "metadata": {
  "kernelspec": {
   "display_name": "Python 2",
   "language": "python",
   "name": "python2"
  },
  "language_info": {
   "codemirror_mode": {
    "name": "ipython",
    "version": 2
   },
   "file_extension": ".py",
   "mimetype": "text/x-python",
   "name": "python",
   "nbconvert_exporter": "python",
   "pygments_lexer": "ipython2",
   "version": "2.7.14"
  }
 },
 "nbformat": 4,
 "nbformat_minor": 2
}
