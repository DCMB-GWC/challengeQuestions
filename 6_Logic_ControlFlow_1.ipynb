{
 "cells": [
  {
   "cell_type": "markdown",
   "metadata": {},
   "source": [
    "# Logic & Control Flow Challenge Problem\n",
    "\n",
    "## Password Strength\n",
    "Here you will write a function that determines if a password is safe or not. The password will be considered strong enough if its length is greater than or equal to 10 symbols, it has at least one digit, as well as containing one uppercase letter and one lowercase letter in it. The password contains only ASCII latin letters or digits.\n",
    "\n",
    "### Input: \n",
    "A password as a string.\n",
    "\n",
    "### Output: \n",
    "Boolean value indicating if the password is safe or not."
   ]
  },
  {
   "cell_type": "code",
   "execution_count": null,
   "metadata": {
    "collapsed": true
   },
   "outputs": [],
   "source": [
    "## Fill in this cell with your function\n",
    "def password_strength(password):\n",
    "\n",
    "    \n",
    "        # To run checks on each character in the password we have to use a for loop\n",
    "        # We will learn more about loops next week\n",
    "        for character in password:\n",
    "            # perform checks on the variable password"
   ]
  },
  {
   "cell_type": "code",
   "execution_count": null,
   "metadata": {
    "collapsed": true
   },
   "outputs": [],
   "source": [
    "## Run this cell to check your function\n",
    "## If your function passes all tests there will be no output\n",
    "## If there is a problem, python will raise an AssertionError\n",
    "## Check the error message to see which example is throwing the error\n",
    "\n",
    "assert password_strength(\"YaaasQueen18\") == True, \"Failed Check 1\"\n",
    "assert password_strength(\"password\") == False, \"Failed Check 2\"\n",
    "assert password_strength('123456123456') == False, \"Failed Check 3\"\n",
    "assert password_strength('QwErTy911poqqqq') == True, \"Failed Check 4\"\n",
    "assert password_strength('A1213pokl') == False, \"Failed Check 5\""
   ]
  }
 ],
 "metadata": {
  "kernelspec": {
   "display_name": "Python 2",
   "language": "python",
   "name": "python2"
  },
  "language_info": {
   "codemirror_mode": {
    "name": "ipython",
    "version": 2
   },
   "file_extension": ".py",
   "mimetype": "text/x-python",
   "name": "python",
   "nbconvert_exporter": "python",
   "pygments_lexer": "ipython2",
   "version": "2.7.14"
  }
 },
 "nbformat": 4,
 "nbformat_minor": 2
}
