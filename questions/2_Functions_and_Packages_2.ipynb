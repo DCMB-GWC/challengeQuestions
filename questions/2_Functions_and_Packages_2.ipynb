{
 "cells": [
  {
   "cell_type": "markdown",
   "metadata": {},
   "source": [
    "# Bouncer Skillz\n",
    "You are the bouncer at a very exclusive, very glamorous dance club in the BIG CITY!!!  YES!!!!  SWEET GIG!\n",
    "Since this club is so prestigious, there is a strict VIP list consisting of who is allowed to attend.\n",
    "If you're invited, you're on the list.  If you're not on the list, then you weren't invited, and the bouncer will turn you away.\n",
    "This club is trying to move to digital organization of their processes, including VIP lists/bouncer duties, and now all bouncers are required to know Python.  Crazy!  Good thing you're learning Python!\n",
    "\n",
    "The original VIP list for this weekend's event (a list of strings!) is provided for you below:\n",
    "\n",
    "vipThisWknd = ['Francisco', 'Vibhasri', 'Isabel', 'Caesar Salad', 'Hannah', 'Negar', 'Elizabeth', 'Marlena', 'Maureen', 'Amy', 'Lucy', 'Brooke', 'Sofia', 'The Babadook', 'Jessica', 'Kristen', 'Elizabeth', 'Gianna', 'Krutika', 'Anisha', 'Priyanka', 'Khadija', 'Vy', 'Aayana', 'Stephanie']\n",
    "\n",
    "Seems like a cool bunch!\n",
    "\n",
    "This club is so popular that changes are being made to the VIP list all the time.  In order to make fast, efficient changes to all sorts of VIP lists for all sorts of parties, your club boss has asked you to define some general functions that will \n",
    "\n",
    "    1. Add a name to any list\n",
    "    2. Remove a name from any list\n",
    "    3. Sort any list in alphabetical order\n",
    "    4. Combine lists"
   ]
  },
  {
   "cell_type": "code",
   "execution_count": null,
   "metadata": {},
   "outputs": [],
   "source": [
    "# ADD A NAME\n",
    "\n",
    "# Oh no!  It looks like we forgot two very important guests on the VIP list for this weekend: Brooke and Verity.\n",
    "# Define a function that will add a guest to the VIP list, and then use this function to add 1) 'Brooke' and\n",
    "# 2) 'Verity' to vipThisWknd so that that can get into the party!\n"
   ]
  },
  {
   "cell_type": "code",
   "execution_count": null,
   "metadata": {},
   "outputs": [],
   "source": [
    "# REMOVE A NAME \n",
    "\n",
    "# Weird... we've never heard of Francisco, Caesar Salad isn't a person, and no one wants The Babadook at their party.\n",
    "# Define a function that will remove any guest's name from the VIP list, and then use that functino to remove\n",
    "# 1) 'Francisco' 2) 'Caesar Salad' and 3) 'The Babadook' from vipThisWknd.\n"
   ]
  },
  {
   "cell_type": "code",
   "execution_count": null,
   "metadata": {},
   "outputs": [],
   "source": [
    "# SORT A LIST IN ALPHABETICAL ORDER\n",
    "\n",
    "# Bouncers deal with long lines full of impatient partygoers.  They must be organized to work fast!  \n",
    "# Define a function that will sort the VIP list in alphabetical order, A to Z, so that you can check off guests\n",
    "# quickly the night of the party.  Test your function on vipThisWknd  !!\n"
   ]
  },
  {
   "cell_type": "code",
   "execution_count": null,
   "metadata": {},
   "outputs": [],
   "source": [
    "# COMBINE LISTS\n",
    "\n",
    "# You boss is thinking about sending promotional materials to the partygoers from this week and last week.\n",
    "# They have asked you to compile a single list of all these partygoers.  You already have the list of partygoers\n",
    "# from this week.  Last week's partygoers are stored in the list below:\n",
    "\n",
    "vipLastWknd = ['Thelonius', 'Abraham', 'Marilyn', 'Colette', 'Desdemona', 'Kurt', 'Robin', 'Nora', 'Gertrude',\n",
    "              'Virginia', 'Jacob', 'Dayton', 'Julia', 'Josie']\n",
    "\n",
    "# Define a function that combines two lists into one list, and then use that function to combine\n",
    "# vipThisWknd and vipLastWknd."
   ]
  }
 ],
 "metadata": {
  "kernelspec": {
   "display_name": "Python 3",
   "language": "python",
   "name": "python3"
  },
  "language_info": {
   "codemirror_mode": {
    "name": "ipython",
    "version": 3
   },
   "file_extension": ".py",
   "mimetype": "text/x-python",
   "name": "python",
   "nbconvert_exporter": "python",
   "pygments_lexer": "ipython3",
   "version": "3.6.5"
  }
 },
 "nbformat": 4,
 "nbformat_minor": 2
}
