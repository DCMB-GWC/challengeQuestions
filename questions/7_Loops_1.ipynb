{
 "cells": [
  {
   "cell_type": "markdown",
   "metadata": {},
   "source": [
    "# Hangman\n",
    "\n",
    "The idea is simple, the implementation is a little harder.\n",
    "Make a game of hangman that you and a friend can play!\n",
    "\n",
    "**New function:**\n",
    "input"
   ]
  },
  {
   "cell_type": "code",
   "execution_count": 3,
   "metadata": {},
   "outputs": [
    {
     "name": "stdout",
     "output_type": "stream",
     "text": [
      "Type in your name and hit enter: Zena\n",
      "Hi, Zena!\n"
     ]
    }
   ],
   "source": [
    "# example of using input\n",
    "name = input('Type in your name and hit enter: ')\n",
    "print('Hi, ' + name + '!')"
   ]
  },
  {
   "cell_type": "code",
   "execution_count": 2,
   "metadata": {},
   "outputs": [
    {
     "name": "stdout",
     "output_type": "stream",
     "text": [
      "Help on method raw_input in module ipykernel.kernelbase:\n",
      "\n",
      "raw_input(prompt='') method of ipykernel.ipkernel.IPythonKernel instance\n",
      "    Forward raw_input to frontends\n",
      "    \n",
      "    Raises\n",
      "    ------\n",
      "    StdinNotImplentedError if active frontend doesn't support stdin.\n",
      "\n"
     ]
    }
   ],
   "source": [
    "# Learn more about input\n",
    "?input # this works for me in Jupyter Notebook, if it doesn't for you, try:\n",
    "help(input)"
   ]
  },
  {
   "cell_type": "markdown",
   "metadata": {},
   "source": [
    "### Approach:\n",
    "\n",
    "1) Write down how a game of hangman works. What is the first step? What is the next step?\n",
    "- How does the game start?\n",
    "- How does the game end?\n",
    "- Are there certain parts where you have to make different decisions based on the input?\n",
    "- Are there parts that get repeated multiple times?\n",
    "\n",
    "2) Write pseudocode based on the steps you wrote in (1).\n",
    "- Where do you need to use loops? What kind of loops do you need?\n",
    "\n",
    "3) Write up your code below.\n",
    "\n",
    "4) Try it out on a friend!\n",
    "\n",
    "**Hints:**\n",
    "- Make sure you have a variable you set that is the word your friend is trying to guess. \n",
    "    - Ex: word = \"python\" -- you can manually change this word each time you want to play another game of hangman\n",
    "- You have to tell your friend how long the word is\n",
    "- When your friend guesses a correct letter, you have to add it in the correct place in the word\n",
    "- When your friend guesses an incorrect letter, you have to let them know\n",
    "- The game is over when all of the letters are guessed (or you can set a maximum number of turns your friend can take to guess the word)"
   ]
  },
  {
   "cell_type": "code",
   "execution_count": null,
   "metadata": {},
   "outputs": [],
   "source": []
  },
  {
   "cell_type": "code",
   "execution_count": null,
   "metadata": {
    "collapsed": true
   },
   "outputs": [],
   "source": []
  },
  {
   "cell_type": "code",
   "execution_count": null,
   "metadata": {
    "collapsed": true
   },
   "outputs": [],
   "source": []
  }
 ],
 "metadata": {
  "kernelspec": {
   "display_name": "Python 3",
   "language": "python",
   "name": "python3"
  },
  "language_info": {
   "codemirror_mode": {
    "name": "ipython",
    "version": 3
   },
   "file_extension": ".py",
   "mimetype": "text/x-python",
   "name": "python",
   "nbconvert_exporter": "python",
   "pygments_lexer": "ipython3",
   "version": "3.6.1"
  }
 },
 "nbformat": 4,
 "nbformat_minor": 2
}
