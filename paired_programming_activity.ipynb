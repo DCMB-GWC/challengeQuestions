{
 "cells": [
  {
   "cell_type": "markdown",
   "metadata": {},
   "source": [
    "# Paired programming activity"
   ]
  },
  {
   "cell_type": "markdown",
   "metadata": {},
   "source": [
    "**Question 1:** Define a function char_counts that, given a string, counts and reports how many times each letter appears. Example string: \"computing is too important to be left to men\" (credit: Karen Sparck Jones). *Hint:* if you loop over a string, it goes through each character. *Challenge:* How short can you make your code and have it still work?"
   ]
  },
  {
   "cell_type": "code",
   "execution_count": null,
   "metadata": {
    "collapsed": true
   },
   "outputs": [],
   "source": []
  },
  {
   "cell_type": "code",
   "execution_count": 1,
   "metadata": {},
   "outputs": [
    {
     "name": "stdout",
     "output_type": "stream",
     "text": [
      "test: char_counts(\"computing is too important to be left to men\")\n"
     ]
    }
   ],
   "source": [
    "# Check your function\n",
    "print('test: char_counts(\\\"computing is too important to be left to men\\\")')\n",
    "string = \"computing is too important to be left to men\"\n",
    "print(char_counts(string))"
   ]
  },
  {
   "cell_type": "markdown",
   "metadata": {},
   "source": [
    "**Question 2:** Define a function maximum that takes two numbers as arguments and returns the largest of them. Hint: use if-then-else. (python has a max function built in, but write your own)"
   ]
  },
  {
   "cell_type": "code",
   "execution_count": null,
   "metadata": {
    "collapsed": true
   },
   "outputs": [],
   "source": []
  },
  {
   "cell_type": "code",
   "execution_count": null,
   "metadata": {
    "collapsed": true
   },
   "outputs": [],
   "source": [
    "# Check your function\n",
    "print('test: maximum(1,2)')\n",
    "print(maximum(1,2))\n",
    "print('test: maximum(2.1,2)')\n",
    "print(maximum(2.1,2))"
   ]
  },
  {
   "cell_type": "markdown",
   "metadata": {},
   "source": [
    "**Question 3:** Define a function max_of_three that takes three numbers as arguments and returns the largest of them."
   ]
  },
  {
   "cell_type": "code",
   "execution_count": null,
   "metadata": {
    "collapsed": true
   },
   "outputs": [],
   "source": []
  },
  {
   "cell_type": "code",
   "execution_count": null,
   "metadata": {
    "collapsed": true
   },
   "outputs": [],
   "source": [
    "# Check your function\n",
    "print('test: max_of_three(1,2,3)')\n",
    "print(max_of_three(1,2,3))\n",
    "print('test: max_of_three(2.1,2,1)')\n",
    "print(max_of_three(2.1,2,1))\n",
    "print('test: max_of_three(1.1,2,1)')\n",
    "print(max_of_three(1.1,2,1))"
   ]
  },
  {
   "cell_type": "markdown",
   "metadata": {},
   "source": [
    "**Question 4:** Define a function length that computes the length of a given list or string. (again, python has the len function, but write your own)"
   ]
  },
  {
   "cell_type": "code",
   "execution_count": null,
   "metadata": {
    "collapsed": true
   },
   "outputs": [],
   "source": []
  },
  {
   "cell_type": "code",
   "execution_count": null,
   "metadata": {
    "collapsed": true
   },
   "outputs": [],
   "source": [
    "# Check your function\n",
    "print('test: length(\\'mystring\\')')\n",
    "print(length('mystring'))\n",
    "print('test: length([0,1,2,3,4,5])')\n",
    "print(length([0,1,2,3,4,5]))"
   ]
  },
  {
   "cell_type": "markdown",
   "metadata": {},
   "source": [
    "**Question 5:** Write a function is_vowel that takes a character (i.e. a string of length 1) and returns True if it is a vowel, False otherwise."
   ]
  },
  {
   "cell_type": "code",
   "execution_count": null,
   "metadata": {
    "collapsed": true
   },
   "outputs": [],
   "source": []
  },
  {
   "cell_type": "code",
   "execution_count": null,
   "metadata": {
    "collapsed": true
   },
   "outputs": [],
   "source": [
    "# Check your function\n",
    "print('test: is_vowel(\\'A\\')')\n",
    "print(is_vowel('A'))\n",
    "print('test: is_vowel(\\'x\\')')\n",
    "print(is_vowel('x'))"
   ]
  },
  {
   "cell_type": "markdown",
   "metadata": {},
   "source": [
    "**Question 6:** Define a sum_all function and a multiply_all function that sums and multiplies (respectively) all the numbers in a list of numbers. For example, sum([1, 2, 3, 4]) should return 10, and multiply([1, 2, 3, 4]) should return 24. (again, these exist in python but write your own)"
   ]
  },
  {
   "cell_type": "code",
   "execution_count": null,
   "metadata": {
    "collapsed": true
   },
   "outputs": [],
   "source": []
  },
  {
   "cell_type": "code",
   "execution_count": null,
   "metadata": {
    "collapsed": true
   },
   "outputs": [],
   "source": [
    "# Check your functions\n",
    "print('test: sum_all([1,2,3,4])')\n",
    "print(sum_all([1,2,3,4]))\n",
    "print('test: multiply_all([1,2,3,4])')\n",
    "print(multiply_all([1,2,3,4]))"
   ]
  },
  {
   "cell_type": "markdown",
   "metadata": {},
   "source": [
    "**Question 7:** Define a function reverse that computes the reversal of a string. So if you give it “this is too much” it will give you “hcum oot si siht”"
   ]
  },
  {
   "cell_type": "code",
   "execution_count": null,
   "metadata": {
    "collapsed": true
   },
   "outputs": [],
   "source": []
  },
  {
   "cell_type": "code",
   "execution_count": null,
   "metadata": {
    "collapsed": true
   },
   "outputs": [],
   "source": [
    "# Check your function\n",
    "print('test: reverse(\\'this is too much\\')')\n",
    "print(reverse('this is too much'))"
   ]
  },
  {
   "cell_type": "markdown",
   "metadata": {},
   "source": [
    "**Question 8:** Define a function is_palindrome that recognizes palindromes. You can test with “a man a plan a canal panama” or “radar”."
   ]
  },
  {
   "cell_type": "code",
   "execution_count": null,
   "metadata": {
    "collapsed": true
   },
   "outputs": [],
   "source": []
  },
  {
   "cell_type": "code",
   "execution_count": null,
   "metadata": {
    "collapsed": true
   },
   "outputs": [],
   "source": [
    "# Check your function\n",
    "print('test: is_palindrome(\\'a man a plan a canal panama\\')')\n",
    "print(is_palindrome('a man a plan a canal panama'))\n",
    "print('test: is_palindrome(\\'radar\\')')\n",
    "print(is_palindrome('radar'))"
   ]
  },
  {
   "cell_type": "markdown",
   "metadata": {},
   "source": [
    "**Question 9:** Write a function add_line_numbers that given a text file will create a new text file in which all the lines from the original file are numbered from 1 to n (where n is the number of lines in the file)."
   ]
  },
  {
   "cell_type": "code",
   "execution_count": null,
   "metadata": {
    "collapsed": true
   },
   "outputs": [],
   "source": []
  },
  {
   "cell_type": "code",
   "execution_count": null,
   "metadata": {
    "collapsed": true
   },
   "outputs": [],
   "source": [
    "# Check your function\n",
    "print('test: add_line_numbers(\\\"paired_programming_testfile.txt\\\")')\n",
    "add_line_numbers(\"paired_programming_testfile.txt\")"
   ]
  },
  {
   "cell_type": "markdown",
   "metadata": {},
   "source": [
    "**Question 10:** Write a function avg_word_len that given a text file will calculate the average word length of a text stored in a file (i.e the sum of all the lengths of the word tokens in the text, divided by the number of word tokens)."
   ]
  },
  {
   "cell_type": "code",
   "execution_count": null,
   "metadata": {
    "collapsed": true
   },
   "outputs": [],
   "source": []
  },
  {
   "cell_type": "code",
   "execution_count": null,
   "metadata": {
    "collapsed": true
   },
   "outputs": [],
   "source": [
    "# Check your function\n",
    "print('test: avg_word_len(\\\"paired_programming_testfile.txt\\\")')\n",
    "avg_word_len(\"paired_programming_testfile.txt\")"
   ]
  }
 ],
 "metadata": {
  "kernelspec": {
   "display_name": "Python 3",
   "language": "python",
   "name": "python3"
  },
  "language_info": {
   "codemirror_mode": {
    "name": "ipython",
    "version": 3
   },
   "file_extension": ".py",
   "mimetype": "text/x-python",
   "name": "python",
   "nbconvert_exporter": "python",
   "pygments_lexer": "ipython3",
   "version": "3.6.1"
  }
 },
 "nbformat": 4,
 "nbformat_minor": 2
}
