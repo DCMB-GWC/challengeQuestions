{
 "cells": [
  {
   "cell_type": "markdown",
   "metadata": {},
   "source": [
    "# Hangman\n",
    "\n",
    "The idea is simple, the implementation is a little harder.\n",
    "Make a game of hangman that you and a friend can play!\n",
    "\n",
    "**New function:**\n",
    "input"
   ]
  },
  {
   "cell_type": "code",
   "execution_count": 11,
   "metadata": {},
   "outputs": [
    {
     "name": "stdout",
     "output_type": "stream",
     "text": [
      "Type in your name and hit enter: Zena\n",
      "Hi, Zena!\n"
     ]
    }
   ],
   "source": [
    "# example of using input\n",
    "name = input('Type in your name and hit enter: ')\n",
    "print('Hi, ' + name + '!')"
   ]
  },
  {
   "cell_type": "code",
   "execution_count": 12,
   "metadata": {
    "collapsed": true
   },
   "outputs": [],
   "source": [
    "# Learn more about import\n",
    "?input"
   ]
  },
  {
   "cell_type": "markdown",
   "metadata": {},
   "source": [
    "### Approach:\n",
    "\n",
    "1) Write down how a game of hangman works. What is the first step? What is the next step?\n",
    "- How does the game start?\n",
    "- How does the game end?\n",
    "- Are there certain parts where you have to make different decisions based on the input?\n",
    "- Are there parts that get repeated multiple times?\n",
    "\n",
    "2) Write pseudocode based on the steps you wrote in (1).\n",
    "\n",
    "3) Write up your code below.\n",
    "\n",
    "4) Try it out on a friend!"
   ]
  },
  {
   "cell_type": "code",
   "execution_count": null,
   "metadata": {
    "collapsed": true
   },
   "outputs": [],
   "source": []
  }
 ],
 "metadata": {
  "kernelspec": {
   "display_name": "Python 3",
   "language": "python",
   "name": "python3"
  },
  "language_info": {
   "codemirror_mode": {
    "name": "ipython",
    "version": 3
   },
   "file_extension": ".py",
   "mimetype": "text/x-python",
   "name": "python",
   "nbconvert_exporter": "python",
   "pygments_lexer": "ipython3",
   "version": "3.6.1"
  }
 },
 "nbformat": 4,
 "nbformat_minor": 2
}
