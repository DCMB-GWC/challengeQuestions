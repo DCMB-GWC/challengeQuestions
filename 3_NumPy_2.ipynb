{
 "cells": [
  {
   "cell_type": "markdown",
   "metadata": {},
   "source": [
    "# Numpy Practice\n",
    "\n",
    "We've said it once - we've said it a million times. \n",
    "#### Google is your best friend when it comes to coding.\n",
    "\n",
    "In these exercises, you'll practice your Googling skills to identify and utilize new NumPy functions to complete certain objectives. \n",
    "\n",
    "#### Hints:\n",
    "- Make sure your search terms are specific. Have you specified the language and package that you are searching for functions within?\n",
    "- The official NumPy docs are always a good place to start\n",
    "- StackOverflow may also be a helpful resource"
   ]
  },
  {
   "cell_type": "markdown",
   "metadata": {},
   "source": [
    "## Exercise 1"
   ]
  },
  {
   "cell_type": "code",
   "execution_count": null,
   "metadata": {
    "collapsed": true
   },
   "outputs": [],
   "source": [
    "# Create a null vector (1D array filled with 0's) of size 27. Print it out.\n",
    "# DO NOT simply create a NumPy array from a list of 27 0's you type out \n",
    "# find a NumPy function that will do this for you more easily.\n"
   ]
  },
  {
   "cell_type": "markdown",
   "metadata": {},
   "source": [
    "## Exercise 2"
   ]
  },
  {
   "cell_type": "code",
   "execution_count": null,
   "metadata": {
    "collapsed": true
   },
   "outputs": [],
   "source": [
    "# Create a vector with values ranging from 19 to 64. Print it out.\n"
   ]
  },
  {
   "cell_type": "markdown",
   "metadata": {},
   "source": [
    "## Exercise 3"
   ]
  },
  {
   "cell_type": "code",
   "execution_count": null,
   "metadata": {
    "collapsed": true
   },
   "outputs": [],
   "source": [
    "# Create a 3x3 matrix with values ranging from 0 to 8. Print it out.\n",
    "# HINT: first use a numpy FUNCTION to create a 1D vector with the values ranging from 0-8\n",
    "#       then find a numpy METHOD to transform that 1D array to a 2D array of shape (3,3)\n"
   ]
  },
  {
   "cell_type": "markdown",
   "metadata": {},
   "source": [
    "## Exercise 4"
   ]
  },
  {
   "cell_type": "code",
   "execution_count": null,
   "metadata": {
    "collapsed": true
   },
   "outputs": [],
   "source": [
    "# Find indices of non-zero elements from my_vec. Print them out.\n",
    "my_vec = np.array([1,0,6,8,0,2,0,0,4,0,10,3,0,0,7])\n"
   ]
  },
  {
   "cell_type": "markdown",
   "metadata": {},
   "source": [
    "## Exercise 5"
   ]
  },
  {
   "cell_type": "code",
   "execution_count": null,
   "metadata": {
    "collapsed": true
   },
   "outputs": [],
   "source": [
    "# Create a 3x3x3 array with random values. Print it out.\n"
   ]
  },
  {
   "cell_type": "markdown",
   "metadata": {},
   "source": [
    "## Exercise 6"
   ]
  },
  {
   "cell_type": "code",
   "execution_count": null,
   "metadata": {
    "collapsed": true
   },
   "outputs": [],
   "source": [
    "# Print the maximum, minimum and mean of the random values in #5\n",
    "# HINT: this will require three different functions\n"
   ]
  },
  {
   "cell_type": "markdown",
   "metadata": {},
   "source": [
    "## Exercise 7"
   ]
  },
  {
   "cell_type": "code",
   "execution_count": null,
   "metadata": {
    "collapsed": true
   },
   "outputs": [],
   "source": [
    "# now, print the COLUMN-WISE maximums, minimums and means of the random values in #5\n",
    "# HINT: you should end up with a 1D vector with 3 values for each of these\n"
   ]
  },
  {
   "cell_type": "markdown",
   "metadata": {},
   "source": [
    "## Exercise 8"
   ]
  },
  {
   "cell_type": "code",
   "execution_count": null,
   "metadata": {
    "collapsed": true
   },
   "outputs": [],
   "source": [
    "# now print the ROW-WISE maximums, minimums and means of the random values in #5\n",
    "# HINT: you should end up with a 1D vector with 3 values for each of these\n"
   ]
  },
  {
   "cell_type": "markdown",
   "metadata": {},
   "source": [
    "## Exercise 8"
   ]
  },
  {
   "cell_type": "code",
   "execution_count": null,
   "metadata": {
    "collapsed": true
   },
   "outputs": [],
   "source": [
    "# Normalize a 5x5 random matrix.\n",
    "# HINT: the formula for normalization is (X - minumum)/ (maximum - minimum)\n",
    "\n",
    "\n",
    "# Now print the maximum and minimum values of the normalized matrix. Are they what you expect?\n"
   ]
  },
  {
   "cell_type": "markdown",
   "metadata": {},
   "source": [
    "## Exercise 9"
   ]
  },
  {
   "cell_type": "code",
   "execution_count": null,
   "metadata": {
    "collapsed": true
   },
   "outputs": [],
   "source": [
    "# How would you read in the file 'my_data.csv' to a numpy array? See data format below\n",
    "# Index, SubjectID, Height, Weight, BMI, Age, Sex\n",
    "# 1, S0001, 1.73, 65.4, 21.8, 27, F\n",
    "# 2, S0002, 1.68, 59.2, 20.9, 35, M\n",
    "# 3, S0003, 1.71, 63.6, 21.7, 42, M\n",
    "# ...\n",
    "# HINT: a dummy file my_data.csv exists in this folder. Try actually reading it in and see what happens\n"
   ]
  },
  {
   "cell_type": "markdown",
   "metadata": {},
   "source": [
    "## Exercise 10"
   ]
  },
  {
   "cell_type": "code",
   "execution_count": null,
   "metadata": {
    "collapsed": true
   },
   "outputs": [],
   "source": [
    "# Check the dtype of the array from Exercise 9. Is this useful for mathematical computations?\n",
    "\n",
    "\n",
    "# Try excluding some columns that might not be useful for mathematical computations. \n",
    "\n",
    "\n",
    "# Try adding the Sex column back in to your numpy data, but code the M/F designations as 0/1\n"
   ]
  }
 ],
 "metadata": {
  "kernelspec": {
   "display_name": "Python 2",
   "language": "python",
   "name": "python2"
  },
  "language_info": {
   "codemirror_mode": {
    "name": "ipython",
    "version": 2
   },
   "file_extension": ".py",
   "mimetype": "text/x-python",
   "name": "python",
   "nbconvert_exporter": "python",
   "pygments_lexer": "ipython2",
   "version": "2.7.14"
  }
 },
 "nbformat": 4,
 "nbformat_minor": 2
}
